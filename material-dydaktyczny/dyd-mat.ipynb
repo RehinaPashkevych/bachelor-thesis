{
 "cells": [
  {
   "cell_type": "markdown",
   "metadata": {
    "collapsed": false
   },
   "source": [
    "## Dydaktyczny material \"Aplikacyjny interfejs programistyczny zgodny ze specyfikacją REST (RESTful API)\""
   ]
  },
  {
   "cell_type": "markdown",
   "metadata": {
    "collapsed": false
   },
   "source": [
    "<h3> I część. Przygotowanie </h3> \n",
    "\n",
    "Aby móc korzystać z bazy danych MySQL w ramach mikroserwisu, niezbędne jest zainstalowanie odpowiedniego oprogramowania serwera bazodanowego MySQL. Do wyboru są dwie popularne opcje:\n",
    "\n",
    "- XAMPP - pakiet obsługujący MySQL, Apache i inne komponenty w jednej instalacji.\n",
    "- MySQL Workbench - dedykowane narzędzie firmy Oracle do administracji serwerem MySQL.\n",
    "\n",
    "Następnie, jeśli został wybrany XAMPP, przed rozpoczęciem pracy nad mikroserwisem należy uruchomić moduły Apache oraz MySQL w panelu kontrolnym XAMPP. Umożliwi to działanie lokalnego serwera bazodanowego MySQL oraz serwera WWW Apache.\n",
    "\n",
    "Kolejny krok to zainicjalizowanie struktury bazy danych poprzez wykonanie skryptu SQL z pliku init.sql (lub innej nazwy). Plik ten zawiera instrukcje SQL tworzące tabelę(-e) wraz z kluczami, indeksami itp. Wykonanie tego skryptu stworzy odpowiednią strukturę bazy danych dla mikroserwisu.\n",
    "\n",
    "```\n",
    "--\n",
    "-- Struktura tabeli `room-db`\n",
    "--\n",
    "\n",
    "CREATE TABLE `room-db` (\n",
    "  `id` int(100) NOT NULL,\n",
    "  `token` varchar(255) NOT NULL,\n",
    "  `password` varchar(255) DEFAULT NULL,\n",
    "  `creation_time` timestamp NOT NULL DEFAULT current_timestamp()\n",
    ") ENGINE=InnoDB DEFAULT CHARSET=latin1 COLLATE=latin1_swedish_ci;\n",
    "\n",
    "--\n",
    "-- Zrzut danych tabeli room-db\n",
    "--\n",
    "\n",
    "INSERT INTO `room-db` (`id`, `token`, `password`, `creation_time`) VALUES\n",
    "(1, 'ydhxr', 'hh', '2023-10-22 12:46:00'),\n",
    "(2, '4Lif4', '   ', '2023-10-22 12:46:24'),\n",
    "(3, 'h7I79', '', '2023-10-22 12:47:14'),\n",
    "(4, 're9mu', '', '2023-10-22 13:03:49'),\n",
    "(5, 'vam4m', '', '2023-10-22 13:04:16'),\n",
    "(6, 'RZIpe', '', '2023-10-22 13:04:20'),\n",
    "(7, 'YhgGo', '', '2023-10-22 13:44:12'),\n",
    "(8, 'SsNOb', 'SuperRoom', '2023-10-25 11:08:58'),\n",
    "(9, '5kduf', '', '2023-10-25 13:29:14'),\n",
    "(10, 'Md8hV', '', '2023-11-11 12:07:14'),\n",
    "(11, 'UutRg', '1234567', '2023-11-11 12:18:35'),\n",
    "(12, 'G1Rmh', '', '2023-12-16 13:39:33'),\n",
    "(13, 'OKWuu', 'pretty', '2023-12-16 14:55:05'),\n",
    "(14, '0ePAd', '', '2023-12-18 20:14:45'),\n",
    "(15, 'N5u34', 'the-sun', '2023-12-19 17:41:19'),\n",
    "(16, '08fuk', 'the-sun', '2023-12-19 17:41:53'),\n",
    "(17, 'aEmPk', 'kk', '2023-12-19 17:42:01'),\n",
    "(18, 'WTZcI', 'kk', '2023-12-19 17:42:24'),\n",
    "(19, 'ow7Xg', 'moon', '2023-12-19 17:42:43'),\n",
    "(20, 'tiken', 'pass', '2023-12-19 17:56:50'),\n",
    "(21, 'hard', 'pass-3', '2023-12-19 19:19:39'),\n",
    "(22, 'rock', '', '2023-12-19 19:20:29'),\n",
    "(23, 'EBhkN', '', '2023-12-19 19:21:52'),\n",
    "(24, 'Ixhx6', 'solveIt', '2023-12-19 19:22:10'),\n",
    "(25, 'kolo', 'promien', '2023-12-19 19:27:59'),\n",
    "(26, 'xqmS6', '', '2023-12-23 14:53:09');\n",
    "\n",
    "ALTER TABLE `room-db`\n",
    "  ADD PRIMARY KEY (`id`);\n",
    "\n",
    "ALTER TABLE `room-db`\n",
    "  MODIFY `id` int(100) NOT NULL AUTO_INCREMENT, AUTO_INCREMENT=27;\n",
    "COMMIT;\n",
    "```\n",
    "\n",
    "Dalej należy zainstalować wszystkie biblioteki Pythona potrzebne dla tego API REST opartego o Flaska za pomocą następujących poleceń pip:\n",
    "\n",
    "* pip install flask - instaluje główną bibliotekę Flask\n",
    "* pip install flask_restx - instaluje Flask-RESTX do budowy API REST\n",
    "* pip install mysql-connector-python - instaluje bibliotekę łączącą Pythona z MySQL\n",
    "* pip install datetime - instaluje moduł datetime z biblioteki standardowej Pythona\n",
    "* pip install random - instaluje moduł random z biblioteki standardowej Pythona\n",
    "* pip install string - instaluje moduł string z biblioteki standardowej Pythona\n",
    "\n",
    "<h3> II część. Inicjalizacja </h3> \n",
    "Ten fragment kodu definiuje podstawową konfigurację aplikacji Flask, łączącej się z bazą danych MySQL. \n",
    "Zostały importowane różne moduły:\n",
    "\n",
    "- datetime: umożliwia pracę z datami i czasem;"
   ]
  },
  {
   "cell_type": "code",
   "execution_count": 113,
   "metadata": {
    "ExecuteTime": {
     "end_time": "2024-01-15T20:34:13.299451900Z",
     "start_time": "2024-01-15T20:34:12.831581500Z"
    },
    "collapsed": false
   },
   "outputs": [],
   "source": [
    "from datetime import datetime"
   ]
  },
  {
   "cell_type": "markdown",
   "metadata": {
    "collapsed": false
   },
   "source": [
    "- Resource z flask_restx: jest to klasa, którą można rozszerzyć, aby utworzyć zasób RESTful w aplikacji Flask;"
   ]
  },
  {
   "cell_type": "code",
   "execution_count": 114,
   "metadata": {
    "ExecuteTime": {
     "end_time": "2024-01-15T20:34:13.301451400Z",
     "start_time": "2024-01-15T20:34:12.846248500Z"
    },
    "collapsed": false
   },
   "outputs": [],
   "source": [
    "from flask_restx import Resource"
   ]
  },
  {
   "cell_type": "markdown",
   "metadata": {
    "collapsed": false
   },
   "source": [
    "- Flask: jest to klasa reprezentująca główną aplikację Flask, gdzie :\n",
    "    - render_template: umożliwia renderowanie szablonów HTML,\n",
    "    - request: udostępnia dostęp do danych przesyłanych w żądaniach HTTP,\n",
    "    - jsonify: pomocny w zwracaniu odpowiedzi w formacie JSON;"
   ]
  },
  {
   "cell_type": "code",
   "execution_count": 115,
   "metadata": {
    "ExecuteTime": {
     "end_time": "2024-01-15T20:34:13.536451600Z",
     "start_time": "2024-01-15T20:34:12.865915600Z"
    },
    "collapsed": false
   },
   "outputs": [],
   "source": [
    "from flask import Flask, render_template, request, jsonify"
   ]
  },
  {
   "cell_type": "markdown",
   "metadata": {
    "collapsed": false
   },
   "source": [
    "- random i string: służą do generowania losowych ciągów znaków;"
   ]
  },
  {
   "cell_type": "code",
   "execution_count": 116,
   "metadata": {
    "ExecuteTime": {
     "end_time": "2024-01-15T20:34:13.554450800Z",
     "start_time": "2024-01-15T20:34:12.879924Z"
    },
    "collapsed": false
   },
   "outputs": [],
   "source": [
    "import random\n",
    "import string"
   ]
  },
  {
   "cell_type": "markdown",
   "metadata": {
    "collapsed": false
   },
   "source": [
    "- mysql.connector: moduł do obsługi połączenia z bazą danych MySQL;"
   ]
  },
  {
   "cell_type": "code",
   "execution_count": 117,
   "metadata": {
    "ExecuteTime": {
     "end_time": "2024-01-15T20:34:13.556451900Z",
     "start_time": "2024-01-15T20:34:12.898548Z"
    },
    "collapsed": false
   },
   "outputs": [],
   "source": [
    "import mysql.connector"
   ]
  },
  {
   "cell_type": "markdown",
   "metadata": {
    "collapsed": false
   },
   "source": [
    "- flask_restx: jest rozszerzeniem dla frameworka Flask, który ułatwia tworzenie interfejsów API w stylu RESTful w aplikacjach opartych na Flask. Z niego są importowane:\n",
    "    -   Api: klasa dostarczana przez Flask-RESTx, która ułatwia definiowanie i konfigurowanie interfejsu API dla aplikacji opartej na Flask;\n",
    "    -  fields: moduł w Flask-RESTx, który umożliwia definiowanie pól danych używanych w modelach API;\n",
    "    - reqparse: moduł umożliwiający analizę i walidację argumentów przekazywanych w żądaniach HTTP, takich jak parametry zapytań, nagłówki czy ciała żądania. "
   ]
  },
  {
   "cell_type": "code",
   "execution_count": 118,
   "metadata": {
    "ExecuteTime": {
     "end_time": "2024-01-15T20:34:13.559451800Z",
     "start_time": "2024-01-15T20:34:12.916590300Z"
    },
    "collapsed": false
   },
   "outputs": [],
   "source": [
    "from flask_restx import Api, fields, reqparse"
   ]
  },
  {
   "cell_type": "markdown",
   "metadata": {
    "collapsed": false
   },
   "source": [
    "Dalej została stworzona instancja klasy Flask, reprezentująca aplikację. W Pythonie, zmienna __name__ jest wbudowaną zmienną specjalną, która jest używana do określenia kontekstu, w jakim jest uruchamiany skrypt."
   ]
  },
  {
   "cell_type": "code",
   "execution_count": 119,
   "metadata": {
    "ExecuteTime": {
     "end_time": "2024-01-15T20:34:13.562451700Z",
     "start_time": "2024-01-15T20:34:12.935016700Z"
    },
    "collapsed": false
   },
   "outputs": [],
   "source": [
    "app = Flask(__name__)"
   ]
  },
  {
   "cell_type": "markdown",
   "metadata": {
    "collapsed": false
   },
   "source": [
    "Następnie definiuje się konfiguracja połączenia z bazą danych MySQL. Parametry obejmują adres hosta, nazwę użytkownika, hasło i nazwę bazy danych."
   ]
  },
  {
   "cell_type": "code",
   "execution_count": 120,
   "metadata": {
    "ExecuteTime": {
     "end_time": "2024-01-15T20:34:13.577452300Z",
     "start_time": "2024-01-15T20:34:12.949025300Z"
    },
    "collapsed": false
   },
   "outputs": [],
   "source": [
    "db_config = {\n",
    "    'host': 'localhost',\n",
    "    'user': 'root',\n",
    "    'password': '',\n",
    "    'database': 'test'\n",
    "}"
   ]
  },
  {
   "cell_type": "markdown",
   "metadata": {
    "collapsed": false
   },
   "source": [
    "Dalej zostały zdefiniowane i skonfigurowane funkcje związane z Flask-RESTx, które są używane do budowania RESTful mikroserwisów w aplikacji Flask. Na początku został inicjalizowany obiekt Api z Flask-RESTx, który reprezentuje całe API. Określa on wersję, tytuł i opis API. "
   ]
  },
  {
   "cell_type": "code",
   "execution_count": 121,
   "metadata": {
    "ExecuteTime": {
     "end_time": "2024-01-15T20:34:13.580453Z",
     "start_time": "2024-01-15T20:34:12.965026Z"
    },
    "collapsed": false
   },
   "outputs": [],
   "source": [
    "api = Api(\n",
    "    version='1.0',\n",
    "    title='Room API',\n",
    "    description='API Documentation',\n",
    ")"
   ]
  },
  {
   "cell_type": "markdown",
   "metadata": {
    "collapsed": false
   },
   "source": [
    "Zatem jest inicjalizuja obiektu api w kontekście aplikacji Flask (app). To pozwala na integrację Flask-RESTx z aplikacją."
   ]
  },
  {
   "cell_type": "code",
   "execution_count": 122,
   "metadata": {
    "ExecuteTime": {
     "end_time": "2024-01-15T20:34:13.583457300Z",
     "start_time": "2024-01-15T20:34:12.983655700Z"
    },
    "collapsed": false
   },
   "outputs": [],
   "source": [
    "api.init_app(app)"
   ]
  },
  {
   "cell_type": "markdown",
   "metadata": {
    "collapsed": false
   },
   "source": [
    "Zatem jest tworzenie przestrzeni nazw dla operacji na tokenach. Przestrzeń nazw (namespace) to koncept w Flask-RESTx, który pomaga w organizacji endpointów i zasobów. W tym przypadku, przestrzeń nazw jest związana z operacjami HTTP dotyczącymi tokenów."
   ]
  },
  {
   "cell_type": "code",
   "execution_count": 123,
   "metadata": {
    "ExecuteTime": {
     "end_time": "2024-01-15T20:34:13.586452100Z",
     "start_time": "2024-01-15T20:34:12.999410100Z"
    },
    "collapsed": false
   },
   "outputs": [],
   "source": [
    "api = api.namespace('', description='HTTP Operations related to tokens')"
   ]
  },
  {
   "cell_type": "markdown",
   "metadata": {
    "collapsed": false
   },
   "source": [
    "Model danych token_model definiuje strukturę danych, która będzie używana do reprezentacji tokenów w API. To jest używane do serializacji i deserializacji danych związanych z tokenem."
   ]
  },
  {
   "cell_type": "code",
   "execution_count": 124,
   "metadata": {
    "ExecuteTime": {
     "end_time": "2024-01-15T20:34:13.601453500Z",
     "start_time": "2024-01-15T20:34:13.016998700Z"
    },
    "collapsed": false
   },
   "outputs": [],
   "source": [
    "token_model = api.model('Token', {\n",
    "    'token': fields.String(required=True, description='Token value'),\n",
    "    'password': fields.String(required=False, description='Password associated with the token'),\n",
    "})"
   ]
  },
  {
   "cell_type": "markdown",
   "metadata": {
    "collapsed": false
   },
   "source": [
    " Model token_model_full pomimo informacji ogólnej (zawartej w token_model), uwzględnia dodatkowe informacje związane z hiperłączami. Model zawiera zagnieżdżony model Links, który składa się z pól self, update i delete typu string, reprezentujących odpowiednie hiperłącza. Taka struktura modelu pozwala na precyzyjne zdefiniowanie formatu danych, które API oczekuje i zwraca, co ułatwia zarządzanie danymi w ramach aplikacji. Dodatkowo, to podejście wspiera zgodność z zasadą HATEOAS (Hypertext As The Engine Of Application State), umożliwiając reprezentację hiperłączy w odpowiedziach API."
   ]
  },
  {
   "cell_type": "code",
   "execution_count": 125,
   "metadata": {
    "ExecuteTime": {
     "end_time": "2024-01-15T20:34:13.604451900Z",
     "start_time": "2024-01-15T20:34:13.050926700Z"
    },
    "collapsed": false
   },
   "outputs": [],
   "source": [
    "links_model = api.model('Links', {\n",
    "    'self': fields.String,\n",
    "    'update': fields.String,\n",
    "    'delete': fields.String\n",
    "})\n",
    "\n",
    "token_model_full = api.model('Token_full', {\n",
    "    'id': fields.Integer,\n",
    "    'token': fields.String,\n",
    "    'password': fields.String,\n",
    "    'creation_time': fields.String,\n",
    "    '_links': fields.Nested(links_model)\n",
    "})"
   ]
  },
  {
   "cell_type": "markdown",
   "metadata": {
    "collapsed": false
   },
   "source": [
    "Parser token_parser jest używany do parsowania danych wejściowych z żądań HTTP. Definiuje oczekiwane argumenty, takie jak token i password, które mogą być przekazywane w żądaniu."
   ]
  },
  {
   "cell_type": "code",
   "execution_count": 126,
   "metadata": {
    "ExecuteTime": {
     "end_time": "2024-01-15T20:34:13.618452700Z",
     "start_time": "2024-01-15T20:34:13.066935200Z"
    },
    "collapsed": false
   },
   "outputs": [
    {
     "data": {
      "text/plain": [
       "<flask_restx.reqparse.RequestParser at 0x2905496e210>"
      ]
     },
     "execution_count": 126,
     "metadata": {},
     "output_type": "execute_result"
    }
   ],
   "source": [
    "token_parser = reqparse.RequestParser()\n",
    "token_parser.add_argument('token', type=str, help='Token value')\n",
    "token_parser.add_argument('password', type=str, help='Password associated with the token')"
   ]
  },
  {
   "cell_type": "markdown",
   "metadata": {},
   "source": [
    "W kontekście RESTful mikroserwisów, te elementy pomagają w definiowaniu struktury API, obsłudze danych wejściowych, oraz w dokumentowaniu operacji dostępnych w API. Modele danych i parsery ułatwiają również walidację i przetwarzanie danych przesyłanych przez klientów. Przestrzenie nazw pozwalają na logiczne grupowanie operacji, co poprawia czytelność i organizację kodu.\n",
    "\n",
    "<h3>III część. Definicja punktów końcowych </h3>\n",
    "\n",
    "Dalej zostanie dodany punkt końcowy 'generate-token', który będzie obsługiwał:\n",
    "\n",
    "1. Żądanie GET:\n",
    "\n",
    "- Kiedy użytkownik otwiera przeglądarkę i wpisuje ścieżkę /generate-token, wykonuje się obsługa żądania GET.\n",
    "- W tym przypadku, funkcja generate_and_insert_token inicjalizuje zmienne password i token jako puste ciągi znaków.\n",
    "- Następnie renderuje szablon HTML (index.html) za pomocą funkcji render_template. Szablon ten może korzystać z wartości token i password.\n",
    "- Ostatecznie, funkcja zwraca zawartość HTML jako odpowiedź na żądanie GET.\n",
    "\n",
    "2. Żądanie POST:\n",
    "\n",
    "- Kiedy użytkownik wysyła formularz na stronie /generate-token (na przykład, po wypełnieniu pola hasła i wysłaniu formularza), wykonuje się obsługa żądania POST.\n",
    "- Funkcja pobiera wartość hasła z formularza za pomocą request.form.get('password').\n",
    "- Następnie generuje nowy token za pomocą funkcji generate_token i wykonuje wstawienie danych (token i hasło) do bazy danych za pomocą funkcji insert_data_into_db.\n",
    "-Ostatecznie, funkcja renderuje szablon HTML i zwraca go jako odpowiedź na żądanie POST."
   ]
  },
  {
   "cell_type": "code",
   "execution_count": 127,
   "metadata": {
    "ExecuteTime": {
     "end_time": "2024-01-15T20:34:13.621451800Z",
     "start_time": "2024-01-15T20:34:13.087593400Z"
    },
    "collapsed": false
   },
   "outputs": [],
   "source": [
    "@app.route('/generate-token', methods=['GET', 'POST'])\n",
    "def generate_and_insert_token():\n",
    "    password = \"\"  # Initialize the password variable\n",
    "    token = \"\"\n",
    "\n",
    "    if request.method == 'POST':\n",
    "        password = request.form.get('password')  # Retrieve the password from the form\n",
    "        token = generate_token()\n",
    "        insert_data_into_db(token, password)\n",
    "\n",
    "    html_content = render_template('index.html', token=token, password=password)\n",
    "    return html_content"
   ]
  },
  {
   "cell_type": "markdown",
   "metadata": {
    "collapsed": false
   },
   "source": [
    "Funkcje Pomocnicze:\n",
    "\n",
    "- generate_token: funkcja generująca losowy token składający się z liter i cyfr;"
   ]
  },
  {
   "cell_type": "code",
   "execution_count": 128,
   "metadata": {
    "ExecuteTime": {
     "end_time": "2024-01-15T20:34:13.635452500Z",
     "start_time": "2024-01-15T20:34:13.107030600Z"
    },
    "collapsed": false
   },
   "outputs": [],
   "source": [
    "def generate_token():\n",
    "    token = ''.join(random.choice(string.ascii_letters + string.digits) for _ in range(5))\n",
    "    return token"
   ]
  },
  {
   "cell_type": "markdown",
   "metadata": {
    "collapsed": false
   },
   "source": [
    "- insert_data_into_db: odpowiada za wstawienie danych (tokenu i hasła) do bazy danych MySQL. Przed dokonaniem wstawienia, funkcja sprawdza, czy token o podanym identyfikatorze już istnieje, a następnie wykonuje odpowiednie zapytanie SQL w zależności od tego, czy podano identyfikator. W przypadku sukcesu, dane są zatwierdzane, a połączenie z bazą danych zamykane. W przypadku błędu, funkcja zgłasza wyjątek zawierający informacje o wystąpieniu błędu MySQL;"
   ]
  },
  {
   "cell_type": "code",
   "execution_count": 129,
   "metadata": {
    "ExecuteTime": {
     "end_time": "2024-01-15T20:34:13.638452Z",
     "start_time": "2024-01-15T20:34:13.126041800Z"
    },
    "collapsed": false
   },
   "outputs": [],
   "source": [
    "def insert_data_into_db(token, password, token_id=None):\n",
    "    try:\n",
    "        if token:\n",
    "            conn, cursor = connect_to_database()\n",
    "\n",
    "            if token_id is not None and token_id != 0:\n",
    "\n",
    "                cursor.execute(\"SELECT COUNT(*) FROM `room-db` WHERE id = %s\", (token_id,))\n",
    "                result = cursor.fetchone()\n",
    "\n",
    "                if result and result['COUNT(*)'] > 0:\n",
    "                    raise ValueError(f\"Token with ID {token_id} already exists\")\n",
    "\n",
    "            if token_id is not None and token_id != 0:\n",
    "                insert_query = \"\"\"\n",
    "                    INSERT INTO `room-db` (`id`, `token`, `password`)\n",
    "                    VALUES (%s, %s, %s)\n",
    "                \"\"\"\n",
    "                cursor.execute(insert_query, (token_id, token, password))\n",
    "            else:\n",
    "                insert_query = \"\"\"  \n",
    "                    INSERT INTO `room-db` (`token`, `password`)\n",
    "                    VALUES (%s, %s)\n",
    "                \"\"\"\n",
    "                cursor.execute(insert_query, (token, password))\n",
    "\n",
    "            conn.commit()\n",
    "            close_database_connection(cursor, conn)\n",
    "\n",
    "        else:\n",
    "            raise ValueError(\"Error: 'token' is required\")\n",
    "\n",
    "    except mysql.connector.Error as e:\n",
    "        print(\"Error:\", e)"
   ]
  },
  {
   "cell_type": "markdown",
   "metadata": {
    "collapsed": false
   },
   "source": [
    "- connect_to_database i close_database_connection: funkcje do nawiązywania i zamykania połączenia z bazą danych."
   ]
  },
  {
   "cell_type": "code",
   "execution_count": 130,
   "metadata": {
    "ExecuteTime": {
     "end_time": "2024-01-15T20:34:13.640451900Z",
     "start_time": "2024-01-15T20:34:13.140445300Z"
    }
   },
   "outputs": [],
   "source": [
    "def connect_to_database():\n",
    "    conn = mysql.connector.connect(**db_config)\n",
    "    cursor = conn.cursor(dictionary=True)\n",
    "    return conn, cursor\n",
    "\n",
    "\n",
    "def close_database_connection(cursor, conn):\n",
    "    cursor.close()\n",
    "    conn.close()"
   ]
  },
  {
   "cell_type": "markdown",
   "metadata": {},
   "source": [
    "Dalej uruchamiamy serwer Flask, który będzie nasłuchiwał na żądania HTTP na domyślnym adresie http://127.0.0.1:5000/. \n",
    "Poniższy kod sprawdza, czy skrypt Pythona jest uruchamiany jako plik główny (a nie zaimportowany jako moduł do innego skryptu). Jeśli ten warunek jest spełniony, co oznacza, że skrypt jest uruchamiany bezpośrednio, a nie importowany, to następuje uruchomienie aplikacji Flask.\n"
   ]
  },
  {
   "cell_type": "code",
   "execution_count": 140,
   "metadata": {
    "ExecuteTime": {
     "end_time": "2024-01-15T20:38:36.652346Z",
     "start_time": "2024-01-15T20:37:23.432524900Z"
    }
   },
   "outputs": [
    {
     "name": "stdout",
     "output_type": "stream",
     "text": [
      " * Serving Flask app '__main__'\n",
      " * Debug mode: off\n"
     ]
    },
    {
     "name": "stderr",
     "output_type": "stream",
     "text": [
      "WARNING: This is a development server. Do not use it in a production deployment. Use a production WSGI server instead.\n",
      " * Running on http://127.0.0.1:5000\n",
      "Press CTRL+C to quit\n",
      "127.0.0.1 - - [15/Jan/2024 22:04:32] \"DELETE /token/16 HTTP/1.1\" 404 -\n",
      "127.0.0.1 - - [15/Jan/2024 22:04:39] \"DELETE /token/17 HTTP/1.1\" 200 -\n",
      "127.0.0.1 - - [15/Jan/2024 22:04:50] \"GET /tokens HTTP/1.1\" 200 -\n"
     ]
    }
   ],
   "source": [
    "if __name__ == '__main__':\n",
    "    app.run(debug=False)"
   ]
  },
  {
   "cell_type": "markdown",
   "metadata": {},
   "source": [
    "Teraz zdefiniujemy nowy punkt końcowy `/token/<int:id>`, który będzie obsługiwał trzy metody HTTP: GET, POST, DELETE i PUT. Oto opis poszczególnych części kodu:\n",
    "\n",
    "1. Żądanie GET:\n",
    "\n",
    "- Jeśli otrzymano żądanie GET na ścieżce `/token/<int:id>`, funkcja display_or_delete_or_update_token_info(id) wywołuje funkcję retrieve_token_info(id) w celu pobrania informacji o tokenie o określonym ID z bazy danych.\n",
    "- Jeśli token zostanie znaleziony, renderuje się szablon HTML (token_info.html), a następnie zwraca odpowiedź z informacjami o tokenie.\n",
    "- Jeśli token nie zostanie znaleziony, zwracany jest komunikat o błędzie 404.\n",
    "- W kodzie jest dodatkowe sprawdzenie, czy żądanie HTTP nie jest typu DELETE. Ma to związek z tym, że identyfikator konkretnego zasobu (np. tokenu) jest przekazywany w adresie URL jako parametr. Normalnie żądanie GET do takiego adresu powinno zwrócić szczegóły danego tokenu. Jednak dodatkowo do tego adresu URL jest podpięty przycisk \"Usuń\" służący do wywołania żądania DELETE w celu usunięcia tokenu. Problem polega na tym, że sam przycisk z adresem /token/<id> wywołuje żądanie GET zamiast DELETE. Dlatego w kodzie musi być sprawdzenie, czy przypadkiem żądanie nie ma ustawionej metody DELETE (jest to możliwe w Flasku). Jeśli tak, to zamiast zwrócić dane tokenu, zostanie on usunięty z bazy danych.\n",
    "\n",
    "2. Żądanie POST:\n",
    "\n",
    "- Jeśli otrzymano żądanie POST na ścieżce `/token/<int:id>`, funkcja próbuje zaktualizować hasło i token dla określonego ID na podstawie danych przesłanych w formularzu.\n",
    "- Jeśli operacja aktualizacji powiedzie się, zwracany jest komunikat potwierdzający aktualizację.\n",
    "- Jeśli token o podanym ID nie zostanie znaleziony, zwracany jest komunikat o błędzie 404.\n",
    "\n",
    "3. Żądanie DELETE:\n",
    "\n",
    "- Jeśli otrzymano żądanie DELETE na ścieżce `/token/<int:id>`, funkcja próbuje usunąć token o określonym ID z bazy danych.\n",
    "- Jeśli operacja usunięcia powiedzie się, zwracany jest komunikat potwierdzający usunięcie.\n",
    "- Jeśli token o podanym ID nie zostanie znaleziony, zwracany jest komunikat o błędzie 404.\n",
    "\n",
    "4. Żądanie PUT:\n",
    "- Gdy serwer otrzymuje żądanie PUT na ścieżce `/token/<int:id>`, sprawdza, czy metoda to PUT. To żądanie umożliwia modyfikację danych związanych z tokenem w bazie danych.\n",
    "- Następnie pobiera nowy token i nowe hasło z formularza żądania. Jeśli aktualizacja informacji dla określonego identyfikatora tokena przy użyciu funkcji update_token_info powiedzie się, serwer zwraca komunikat informujący, że informacje dla danego identyfikatora zostały zaktualizowane. W przeciwnym razie zwracany jest komunikat o nieznalezieniu wiersza o podanym identyfikatorze, wskazujący na błąd 404.\n",
    "\n",
    "W kodzie implementującym endpoint `/token/<int:id>`, zastosowano dodatkową warstwę sprawdzającą argumenty metody HTTP. Jest to konieczne ze względu na domyślne zachowanie w bibliotece Flask, gdzie w odpowiedzi na interakcję z przyciskami formularza zawsze wysyłane są żądania typu GET lub POST. Jednakże, w kontekście aktualizacji, usuwania lub dodawania nowych zasobów, które wymagają użycia metod PUT, DELETE lub POST, konieczne jest wprowadzenie mechanizmu pozwalającego na przesłanie tych konkretnych metod.\n",
    "\n",
    "W związku z tym, do każdego formularza (w pliku tokens.html) została dodana ukryta zmienna `_method`, która zawiera informację o zamierzonej metodzie HTTP. Mechanizm ten umożliwia symulację wysłania żądania z wybraną metodą, taką jak DELETE. To podejście pozwala na skorzystanie z dostępnych funkcji w Flask, jednocześnie umożliwiając precyzyjne określenie żądanej metody HTTP, co jest szczególnie istotne w przypadku operacji, które wykraczają poza standardowe GET i POST."
   ]
  },
  {
   "cell_type": "code",
   "execution_count": 131,
   "metadata": {
    "ExecuteTime": {
     "end_time": "2024-01-15T20:38:46.093695500Z",
     "start_time": "2024-01-15T20:38:46.027509400Z"
    },
    "collapsed": false
   },
   "outputs": [],
   "source": [
    "@app.route('/token/<int:id>', methods=['GET', 'PUT', 'POST', 'DELETE'])\n",
    "def display_or_delete_or_update_token_info(id):\n",
    "    method = request.args.get('_method', None)\n",
    "    if request.method == 'GET' and method != 'DELETE':\n",
    "        # Retrieve and display token information\n",
    "        token, password, creation_time = retrieve_token_info(id)\n",
    "        if token is not None:\n",
    "            return render_template('token_info.html', id=id, token=token, password=password,\n",
    "                                   creation_time=creation_time)\n",
    "        else:\n",
    "            return \"Row with ID {} not found.\".format(id), 404\n",
    "\n",
    "    elif request.method == 'PUT' :\n",
    "        # Update the password and the token for the specified token ID\n",
    "        new_token = request.form.get('token')\n",
    "        new_password = request.form.get('password')\n",
    "        if update_token_info(id, new_token, new_password):\n",
    "            return \"Information for ID {} has been updated.\".format(id)\n",
    "        else:\n",
    "            return \"Row with ID {} not found.\".format(id), 404\n",
    "\n",
    "    elif request.method == 'POST':\n",
    "        new_token = request.form.get('token')\n",
    "        new_password = request.form.get('password')\n",
    "        if new_token:\n",
    "            insert_data_into_db(new_token, new_password, id)\n",
    "            return \"New token added successfully.\"\n",
    "        else:\n",
    "            return \"Missing 'token' parameter in the request.\", 400\n",
    "\n",
    "    elif request.method == 'DELETE' or method == 'DELETE':\n",
    "        # Delete the row with the specified id\n",
    "        if delete_token(id):\n",
    "            return \"Row with ID {} has been deleted.\".format(id)\n",
    "        else:\n",
    "            return \"Row with ID {} not found.\".format(id), 404"
   ]
  },
  {
   "cell_type": "markdown",
   "metadata": {
    "collapsed": false
   },
   "source": [
    "Funkcje Pomocnicze:\n",
    "\n",
    "- retrieve_token_info(id): funkcja pobierająca informacje o tokenie na podstawie ID z bazy danych;"
   ]
  },
  {
   "cell_type": "code",
   "execution_count": 132,
   "metadata": {
    "ExecuteTime": {
     "end_time": "2024-01-15T20:38:40.070613700Z",
     "start_time": "2024-01-15T20:38:40.059606900Z"
    },
    "collapsed": false
   },
   "outputs": [],
   "source": [
    "def retrieve_token_info(id):\n",
    "    try:\n",
    "        conn, cursor = connect_to_database()\n",
    "\n",
    "        # Query the database to retrieve the token, password, and creation_time for the specified id\n",
    "        cursor.execute(\"SELECT token, password, creation_time FROM `room-db` WHERE id = %s\", (id,))\n",
    "        row = cursor.fetchone()\n",
    "\n",
    "        if row:\n",
    "            token = row['token']\n",
    "            password = row['password']\n",
    "            creation_time = row['creation_time']\n",
    "            return token, password, creation_time\n",
    "\n",
    "    except mysql.connector.Error as e:\n",
    "        print(\"Error:\", e)\n",
    "    finally:\n",
    "        close_database_connection(cursor, conn)\n",
    "\n",
    "    return None, None, None  # Return None if the row is not found or an error occurs"
   ]
  },
  {
   "cell_type": "markdown",
   "metadata": {
    "collapsed": false
   },
   "source": [
    "- delete_token(id): funkcja usuwająca token na podstawie ID z bazy danych;"
   ]
  },
  {
   "cell_type": "code",
   "execution_count": 133,
   "metadata": {
    "ExecuteTime": {
     "end_time": "2024-01-15T20:34:31.015943600Z",
     "start_time": "2024-01-15T20:34:30.989236900Z"
    },
    "collapsed": false
   },
   "outputs": [],
   "source": [
    "def delete_token(id):\n",
    "    try:\n",
    "        conn, cursor = connect_to_database()\n",
    "\n",
    "        # Execute a DELETE query to remove the row with the specified id\n",
    "        cursor.execute(\"DELETE FROM `room-db` WHERE id = %s\", (id,))\n",
    "\n",
    "        # Check if any rows were affected\n",
    "        if cursor.rowcount > 0:\n",
    "            conn.commit()\n",
    "            close_database_connection(cursor, conn)\n",
    "            return True\n",
    "        else:\n",
    "            # No rows were affected, indicating the ID was not found\n",
    "            close_database_connection(cursor, conn)\n",
    "            return False\n",
    "\n",
    "    except mysql.connector.Error as e:\n",
    "        print(\"Error:\", e)\n",
    "        return False"
   ]
  },
  {
   "cell_type": "markdown",
   "metadata": {
    "collapsed": false
   },
   "source": [
    "- update_token_info(id, new_token, new_password, new_time=None): Funkcja aktualizująca token na podstawie ID z nowymi danymi."
   ]
  },
  {
   "cell_type": "code",
   "execution_count": 134,
   "metadata": {
    "ExecuteTime": {
     "end_time": "2024-01-15T20:34:31.017941200Z",
     "start_time": "2024-01-15T20:34:30.997885600Z"
    }
   },
   "outputs": [],
   "source": [
    "def update_token_info(id, new_token, new_password, new_time=None):\n",
    "    try:\n",
    "        conn, cursor = connect_to_database()\n",
    "\n",
    "        # Determine the new creation time\n",
    "        if new_time is None:\n",
    "            new_time = datetime.now()\n",
    "\n",
    "        # Execute an UPDATE query to change the token, password, and time for the specified ID\n",
    "        cursor.execute(\"UPDATE `room-db` SET token = %s, password = %s, creation_time = %s WHERE id = %s\",\n",
    "                       (new_token, new_password, new_time, id))\n",
    "\n",
    "        # Check if any rows were affected\n",
    "        if cursor.rowcount > 0:\n",
    "            conn.commit()\n",
    "            close_database_connection(cursor, conn)\n",
    "            return True\n",
    "        else:\n",
    "            # No rows were affected, indicating the ID was not found\n",
    "            close_database_connection(cursor, conn)\n",
    "            return False\n",
    "\n",
    "    except mysql.connector.Error as e:\n",
    "        print(\"Error:\", e)\n",
    "        return False"
   ]
  },
  {
   "cell_type": "markdown",
   "metadata": {},
   "source": [
    "Żeby zaimplementować taką samą funkcjonalność, jaką spełnia powyższy kod, ale który by miał dokumentacje API za pomocą Swaggera musimy:\n",
    "\n",
    "1. W podobny sposób zadeklarować ściężkę API, ale odwolując do obiektu biblioteki Flask_Restx (czyli do api). URL będzie z prefiksem /api.\n",
    "2. Zdefiniować clasę TokenResource - klasa ta dziedziczy po klasie Resource z Flask-RESTx, co umożliwia obsługę różnych metod HTTP (GET, POST, DELETE, PUT) dla zasobu tokena.\n",
    "3. Zdefiniować metody get(self, id), post(self, id), delete(self, id) i put(self, if), które obslugują swoje żądania.\n",
    "\n",
    "\n",
    "Anotacja `@api.expect(token_parser)` w Flask-RESTx oznacza, że dany endpoint API oczekuje, że dane przesłane w żądaniu będą zgodne z formatem zdefiniowanym przez parser.\n",
    "\n",
    "Kod ten używa Flask-RESTx do zdefiniowania struktury API, obsługi żądań HTTP i walidacji danych wejściowych za pomocą parsera. Jest to bardziej rozbudowane podejście do budowania API w porównaniu do standardowego Flask, pozwalające na bardziej zorganizowaną obsługę zasobów i działań związanych z nimi.\n"
   ]
  },
  {
   "cell_type": "code",
   "execution_count": 135,
   "metadata": {
    "ExecuteTime": {
     "end_time": "2024-01-15T20:37:00.706994900Z",
     "start_time": "2024-01-15T20:37:00.698015800Z"
    }
   },
   "outputs": [],
   "source": [
    "@api.route('/api/token/<int:id>')\n",
    "class TokenResource(Resource):\n",
    "    def get(self, id):\n",
    "        token, password, creation_time = retrieve_token_info(id)\n",
    "        if token is not None:\n",
    "            # Convert date to string before returning response\n",
    "            creation_time_str = creation_time.strftime(\"%Y-%m-%d %H:%M:%S\") if creation_time else None\n",
    "            return {'id': id, 'token': token, 'password': password, 'creation_time': creation_time_str}\n",
    "        else:\n",
    "            api.abort(404, f\"Row with ID {id} not found\")\n",
    "\n",
    "    @api.expect(token_parser)\n",
    "    def post(self, id):\n",
    "        args = token_parser.parse_args()\n",
    "        new_token = args['token']\n",
    "        new_password = args['password']\n",
    "        if new_token:\n",
    "            insert_data_into_db(new_token, new_password, id)\n",
    "            return f\"The row for ID {id} has been added.\"\n",
    "        else:\n",
    "            api.abort(400, \"Missing 'token' parameter in the request.\")\n",
    "\n",
    "    @api.expect(token_parser)\n",
    "    def put(self, id):\n",
    "        args = token_parser.parse_args()\n",
    "        new_token = args['token']\n",
    "        new_password = args['password']\n",
    "        if update_token_info(id, new_token, new_password):\n",
    "            return f\"Information for ID {id} has been updated.\"\n",
    "        else:\n",
    "            api.abort(404, f\"Row with ID {id} not found\")\n",
    "\n",
    "    def delete(self, id):\n",
    "        if delete_token(id):\n",
    "            return f\"Row with ID {id} has been deleted.\"\n",
    "        else:\n",
    "            api.abort(404, f\"Row with ID {id} not found\")"
   ]
  },
  {
   "cell_type": "markdown",
   "metadata": {},
   "source": [
    "Ten fragment kodu definiuje funkcję obsługującą żądanie HTTP GET dla ścieżki   `/tokens`. Dana ścieżka oferuje parametry `filter_by` i `search_value`. Parametr `filter_by` oznacza kolumnę, według której zostanie przeprowadzona operacja filtrowania, a `search_value` jest wartością, według której filtrowane są wyniki w określonej kolumnie (używane z parametrem `filter_by`). Jeśli oba parametry są dostępne, dodawane jest warunkowe WHERE do zapytania, filtrujące wyniki według podanego kryterium.\n",
    "\n",
    "Przed zwróceniem wyników, tokeny są formatowane do postaci zgodnej z HATEOAS - każdy obiekt tokenu zawiera dodatkowe pole `_links` ze zdefiniowanymi adresami URL (linkami) umożliwiającymi wykonanie operacji na danym tokenie (self, update, delete).\n",
    "Linki te pozwalają klientowi odnaleźć i wykonać konkretne akcje poprzez samodokumentujący się interfejs, bez znajomości szczegółów implementacji backendu. Jest to realizacja idei HATEOAS w REST API. Dzięki temu frontend aplikacji może być zaimplementowany w sposób niezależny od backendu i łatwo dostosowany do zmian - wystarczy że będzie odczytywał linki zwrócone razem z danymi."
   ]
  },
  {
   "cell_type": "code",
   "execution_count": 136,
   "metadata": {
    "ExecuteTime": {
     "end_time": "2024-01-15T20:37:03.220506300Z",
     "start_time": "2024-01-15T20:37:03.139951600Z"
    }
   },
   "outputs": [],
   "source": [
    "@app.route('/tokens', methods=['GET'])\n",
    "def display_filtered_tokens():\n",
    "    try:\n",
    "        conn, cursor = connect_to_database()\n",
    "\n",
    "        # Default query to retrieve all data\n",
    "        query = \"SELECT id, token, password, creation_time FROM `room-db`\"\n",
    "\n",
    "        # Check if filter_by and search_value parameters are provided\n",
    "        filter_by = request.args.get('filter_by')\n",
    "        search_value = request.args.get('search_value')\n",
    "\n",
    "        # If both filter_by and search_value are provided, add a WHERE clause to the query\n",
    "        if filter_by and search_value:\n",
    "            query += f\" WHERE `{filter_by}` LIKE '%{search_value}%'\"\n",
    "\n",
    "        # Execute the query\n",
    "        cursor.execute(query)\n",
    "        data = cursor.fetchall()\n",
    "\n",
    "        # Format each token data with links\n",
    "        formatted_data = []\n",
    "        for token in data:\n",
    "            formatted_token = {\n",
    "                'id': token['id'],\n",
    "                'token': token['token'],\n",
    "                'password': token['password'],\n",
    "                'creation_time': token['creation_time'].isoformat(),\n",
    "                '_links': {\n",
    "                    'self': f\"http://localhost:5000/token/{token['id']}\",\n",
    "                    'update': f\"http://localhost:5000/token/{token['id']}\",\n",
    "                    'delete': f\"http://localhost:5000/token/{token['id']}\",\n",
    "                }\n",
    "            }\n",
    "            formatted_data.append(formatted_token)\n",
    "\n",
    "        return render_template('tokens.html', data=formatted_data)\n",
    "\n",
    "    except mysql.connector.Error as e:\n",
    "        print(\"Error:\", e)\n",
    "    finally:\n",
    "        close_database_connection(cursor, conn)\n",
    "\n",
    "    return \"An error occurred while fetching token data.\""
   ]
  },
  {
   "cell_type": "markdown",
   "metadata": {},
   "source": [
    "Podobny kod, ale dla Swaggera ma poniższą postać. Taki kod jest bardziej skoncentrowany na dostarczaniu API RESTful i zwracaniu danych w formacie JSON, co jest typowe dla zastosowań, w których klientem jest np. aplikacja frontendowa w JavaScript."
   ]
  },
  {
   "cell_type": "code",
   "execution_count": 137,
   "metadata": {
    "ExecuteTime": {
     "end_time": "2024-01-15T20:34:31.039508600Z",
     "start_time": "2024-01-15T20:34:31.022971400Z"
    }
   },
   "outputs": [],
   "source": [
    "@api.route('/api/tokens')\n",
    "class TokenList(Resource):\n",
    "    @api.doc(responses={200: 'OK'})\n",
    "    @api.marshal_with(token_model_full, as_list=True)\n",
    "    def get(self):\n",
    "        try:\n",
    "            conn, cursor = connect_to_database()\n",
    "\n",
    "            # Default query to retrieve all data\n",
    "            query = \"SELECT id, token, password, creation_time FROM `room-db`\"\n",
    "\n",
    "            # Check if filter_by and search_value parameters are provided\n",
    "            filter_by = request.args.get('filter_by')\n",
    "            search_value = request.args.get('search_value')\n",
    "\n",
    "            # If both filter_by and search_value are provided, add a WHERE clause to the query\n",
    "            if filter_by and search_value:\n",
    "                query += f\" WHERE `{filter_by}` LIKE '%{search_value}%'\"\n",
    "\n",
    "            # Execute the query\n",
    "            cursor.execute(query)\n",
    "\n",
    "            # Fetch the results after executing the query\n",
    "            tokens = cursor.fetchall()\n",
    "\n",
    "            # Convert the creation_time to ISO format for each token\n",
    "            results = []\n",
    "            for token in tokens:\n",
    "                token_data = {\n",
    "                    'id': token['id'],\n",
    "                    'token': token['token'],\n",
    "                    'password': token['password'],\n",
    "                    'creation_time': token['creation_time'].isoformat(),\n",
    "                    '_links': {\n",
    "                        'self': f\"http://localhost:5000/token/{token['id']}\",\n",
    "                        'update': f\"http://localhost:5000/token/{token['id']}\",\n",
    "                        'delete': f\"http://localhost:5000/token/{token['id']}\",\n",
    "                    }\n",
    "                }\n",
    "                results.append(token_data)\n",
    "\n",
    "            close_database_connection(cursor, conn)\n",
    "            return results, 200\n",
    "\n",
    "        except mysql.connector.Error as e:\n",
    "            print(\"Error:\", e)\n",
    "            return {\"error\": \"An error occurred while fetching token data.\"}, 500"
   ]
  },
  {
   "cell_type": "markdown",
   "metadata": {},
   "source": [
    "Komunikacja mikroseriwsu Room z mikroserwisem Student jest za pomocą punktu końcowego /get-data/<string:token>. Funkcja tego puktu, get_token_data(token) wykorzystuje funkcję retrieve_token_info_by_token(token) w celu pobrania informacji o tokenie z bazy danych. Jeśli dane są dostępne, formatuje je jako słownik i zwraca w formie JSON za pomocą jsonify(response_data). W przypadku braku danych zwraca komunikat o błędzie w formie JSON i kod odpowiedzi 404. Jest to rozwiązanie mniej zaawansowane, aniż następny punkt końcowy, który oferuję rozwiązanie Swagger, chociaż kod jest prawie analogiczny."
   ]
  },
  {
   "cell_type": "code",
   "execution_count": 138,
   "metadata": {
    "ExecuteTime": {
     "end_time": "2024-01-15T20:37:06.525117100Z",
     "start_time": "2024-01-15T20:37:06.438512100Z"
    },
    "collapsed": false
   },
   "outputs": [],
   "source": [
    "@app.route('/get-data/<string:token>', methods=['GET'])\n",
    "def get_token_data(token):\n",
    "    data = retrieve_token_info_by_token(token)\n",
    "    if data:\n",
    "        response_data = {\n",
    "            'token': data[0],  # Assuming data[0] contains the token\n",
    "            'password': data[1]  # Assuming data[1] contains the password\n",
    "        }\n",
    "        return jsonify(response_data)\n",
    "    else:\n",
    "        return jsonify({'error': 'Token not found'}), 404\n",
    "\n",
    "\n",
    "@api.route('/api/get-data/<string:token>')\n",
    "class TokenResource(Resource):\n",
    "    @api.marshal_with(token_model)\n",
    "    def get(self, token):\n",
    "        data = retrieve_token_info_by_token(token)\n",
    "        if data:\n",
    "            response_data = {\n",
    "                'token': data[0],  # Assuming data[0] contains the token\n",
    "                'password': data[1]  # Assuming data[1] contains the password\n",
    "            }\n",
    "            return response_data\n",
    "        else:\n",
    "            api.abort(404, 'Token not found')\n",
    "\n",
    "\n",
    "def retrieve_token_info_by_token(token):\n",
    "    try:\n",
    "        conn, cursor = connect_to_database()\n",
    "\n",
    "        # Query the database to retrieve the token, password, and creation_time for the specified token\n",
    "        cursor.execute(\"SELECT token, password FROM `room-db` WHERE token = %s\", (token,))\n",
    "        row = cursor.fetchone()\n",
    "\n",
    "        if row:\n",
    "            token = row['token']\n",
    "            password = row['password']\n",
    "            return token, password\n",
    "\n",
    "    except mysql.connector.Error as e:\n",
    "        print(\"Error:\", e)\n",
    "    finally:\n",
    "        close_database_connection(cursor, conn)\n",
    "\n",
    "    return None, None  # Return None if the row is not found or an error occurs"
   ]
  }
 ],
 "metadata": {
  "kernelspec": {
   "display_name": "Python 3",
   "language": "python",
   "name": "python3"
  },
  "language_info": {
   "codemirror_mode": {
    "name": "ipython",
    "version": 3
   },
   "file_extension": ".py",
   "mimetype": "text/x-python",
   "name": "python",
   "nbconvert_exporter": "python",
   "pygments_lexer": "ipython3",
   "version": "3.11.4"
  }
 },
 "nbformat": 4,
 "nbformat_minor": 2
}
